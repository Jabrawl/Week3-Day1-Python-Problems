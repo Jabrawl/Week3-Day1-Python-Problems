{
 "cells": [
  {
   "cell_type": "markdown",
   "id": "6027c86b",
   "metadata": {},
   "source": [
    "## In-Class Exercise\n",
    "\n",
    "You are going to create a data entry program for a used vehicle dealership. This dealership deals in 3 different vehicles:\n",
    "- Boats\n",
    "- Cars\n",
    "- Motorcycles\n",
    "\n",
    "You will need at least 5 classes, but you can add more as you see fit. You should have a generic \"Vehicle\" class and a specific class for each type of vehicle. You will also need a class to store your vehicles and handle user input. You can choose attributes and methods as you see fit but you will need the following:\n",
    "\n",
    "- Information about the price of the vehicle.\n",
    "- Information about whether or not the vehicle has been sold. If the vehicle is sold, please note it (maybe a boolean value??) and print out a notification to the console.\n",
    "- Information about the vehicles miles traveled and a method to update these miles.\n",
    "- Come up with at least 2 more attributes and build methods to modify these attributes.\n",
    "- A function to take in user input to create vehicles. Your \"game logic\""
   ]
  },
  {
   "cell_type": "code",
   "execution_count": 18,
   "id": "5e8f4292",
   "metadata": {},
   "outputs": [],
   "source": [
    "# class UserVehicle:\n",
    "#     def __init__(self):\n",
    "#         pass    \n",
    "\n",
    "\n",
    "\n",
    "class Vehicle:\n",
    "    def __init__(self, color, model, price, miles=0, sold=False):\n",
    "        self.price = price\n",
    "        self.miles = miles\n",
    "        self.sold = sold\n",
    "        self.color = color\n",
    "        self.model = model\n",
    "        \n",
    "\n",
    "class Cars(Vehicle):\n",
    "    def __init__(self, color, model, price, miles, sold):\n",
    "        super().__init__(color, model, price, miles, sold)\n",
    "\n",
    "    def __repr__(self):\n",
    "        return f'<Car {self.price} {self.miles} {self.sold}>'\n",
    "    \n",
    "    def __str__(self):\n",
    "        return f'This car is {self.sold}, it has {self.miles} miles driven, and it costs ${self.price}'\n",
    "        \n",
    "\n",
    "class Boats(Vehicle):\n",
    "    def __init__(self, color, model, price, miles, sold):\n",
    "        super().__init__(color, model, price, miles, sold)\n",
    "\n",
    "class Motorcycles(Vehicle):\n",
    "    def __init__(self, color, model, price, miles, sold):\n",
    "        super().__init__(color, model, price, miles, sold)\n"
   ]
  },
  {
   "cell_type": "code",
   "execution_count": 17,
   "id": "826a4ec2",
   "metadata": {},
   "outputs": [],
   "source": [
    "myBoat = Boats('White', 'Pontoon', 10000, 0, True)\n",
    "myCar = Cars('Blue', 'Impala', 6000, 3000, False)\n",
    "myMotorcycle = Motorcycles('Black', 'Warthog', 4000, 60000, False)"
   ]
  },
  {
   "cell_type": "code",
   "execution_count": 20,
   "id": "cb33ee08",
   "metadata": {},
   "outputs": [
    {
     "data": {
      "text/plain": [
       "'<Car 6000 3000 False>'"
      ]
     },
     "execution_count": 20,
     "metadata": {},
     "output_type": "execute_result"
    }
   ],
   "source": [
    "myCar.__repr__()"
   ]
  }
 ],
 "metadata": {
  "kernelspec": {
   "display_name": "Python 3.9.13 ('base')",
   "language": "python",
   "name": "python3"
  },
  "language_info": {
   "codemirror_mode": {
    "name": "ipython",
    "version": 3
   },
   "file_extension": ".py",
   "mimetype": "text/x-python",
   "name": "python",
   "nbconvert_exporter": "python",
   "pygments_lexer": "ipython3",
   "version": "3.9.13"
  },
  "vscode": {
   "interpreter": {
    "hash": "ad2bdc8ecc057115af97d19610ffacc2b4e99fae6737bb82f5d7fb13d2f2c186"
   }
  }
 },
 "nbformat": 4,
 "nbformat_minor": 5
}
